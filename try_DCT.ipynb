{
 "cells": [
  {
   "cell_type": "code",
   "execution_count": 1,
   "id": "7520eec8",
   "metadata": {
    "tags": []
   },
   "outputs": [
    {
     "name": "stderr",
     "output_type": "stream",
     "text": [
      "[nltk_data] Downloading package stopwords to\n",
      "[nltk_data]     /Users/vadimpyx/nltk_data...\n",
      "[nltk_data]   Package stopwords is already up-to-date!\n"
     ]
    },
    {
     "ename": "ModuleNotFoundError",
     "evalue": "No module named '_tkinter'",
     "output_type": "error",
     "traceback": [
      "\u001b[0;31m---------------------------------------------------------------------------\u001b[0m",
      "\u001b[0;31mModuleNotFoundError\u001b[0m                       Traceback (most recent call last)",
      "Cell \u001b[0;32mIn[1], line 2\u001b[0m\n\u001b[1;32m      1\u001b[0m \u001b[38;5;28;01mimport\u001b[39;00m \u001b[38;5;21;01mRecSysFramework\u001b[39;00m\u001b[38;5;21;01m.\u001b[39;00m\u001b[38;5;21;01mUtils\u001b[39;00m\u001b[38;5;21;01m.\u001b[39;00m\u001b[38;5;21;01mget_holdout\u001b[39;00m \u001b[38;5;28;01mas\u001b[39;00m \u001b[38;5;21;01mgh\u001b[39;00m\n\u001b[0;32m----> 2\u001b[0m \u001b[38;5;28;01mfrom\u001b[39;00m \u001b[38;5;21;01mRecSysFramework\u001b[39;00m\u001b[38;5;21;01m.\u001b[39;00m\u001b[38;5;21;01mRecommender\u001b[39;00m \u001b[38;5;28;01mimport\u001b[39;00m Recommender\n\u001b[1;32m      3\u001b[0m \u001b[38;5;28;01mfrom\u001b[39;00m \u001b[38;5;21;01mRecSysFramework\u001b[39;00m\u001b[38;5;21;01m.\u001b[39;00m\u001b[38;5;21;01mUtils\u001b[39;00m \u001b[38;5;28;01mimport\u001b[39;00m check_matrix\n\u001b[1;32m      4\u001b[0m \u001b[38;5;28;01mfrom\u001b[39;00m \u001b[38;5;21;01mRecSysFramework\u001b[39;00m\u001b[38;5;21;01m.\u001b[39;00m\u001b[38;5;21;01mEvaluation\u001b[39;00m\u001b[38;5;21;01m.\u001b[39;00m\u001b[38;5;21;01mEvaluator\u001b[39;00m \u001b[38;5;28;01mimport\u001b[39;00m EvaluatorHoldout, EvaluatorMetrics\n",
      "File \u001b[0;32m~/dev/skoltech/recsys/project/NNMF/RecSysFramework/Recommender/__init__.py:3\u001b[0m\n\u001b[1;32m      1\u001b[0m \u001b[38;5;28;01mfrom\u001b[39;00m \u001b[38;5;21;01m.\u001b[39;00m\u001b[38;5;21;01mBaseRecommender\u001b[39;00m \u001b[38;5;28;01mimport\u001b[39;00m Recommender\n\u001b[1;32m      2\u001b[0m \u001b[38;5;28;01mfrom\u001b[39;00m \u001b[38;5;21;01m.\u001b[39;00m\u001b[38;5;21;01mBaseCBFRecommender\u001b[39;00m \u001b[38;5;28;01mimport\u001b[39;00m BaseItemCBFRecommender, BaseUserCBFRecommender\n\u001b[0;32m----> 3\u001b[0m \u001b[38;5;28;01mfrom\u001b[39;00m \u001b[38;5;21;01m.\u001b[39;00m\u001b[38;5;21;01mSimilarityMatrixRecommender\u001b[39;00m \u001b[38;5;28;01mimport\u001b[39;00m SimilarityMatrixRecommender, UserSimilarityMatrixRecommender, ItemSimilarityMatrixRecommender\n\u001b[1;32m      4\u001b[0m \u001b[38;5;28;01mfrom\u001b[39;00m \u001b[38;5;21;01m.\u001b[39;00m\u001b[38;5;21;01mPredefinedListRecommender\u001b[39;00m \u001b[38;5;28;01mimport\u001b[39;00m PredefinedListRecommender\n",
      "File \u001b[0;32m~/dev/skoltech/recsys/project/NNMF/RecSysFramework/Recommender/SimilarityMatrixRecommender.py:13\u001b[0m\n\u001b[1;32m     11\u001b[0m \u001b[38;5;28;01mfrom\u001b[39;00m \u001b[38;5;21;01mRecSysFramework\u001b[39;00m\u001b[38;5;21;01m.\u001b[39;00m\u001b[38;5;21;01mRecommender\u001b[39;00m\u001b[38;5;21;01m.\u001b[39;00m\u001b[38;5;21;01mDataIO\u001b[39;00m \u001b[38;5;28;01mimport\u001b[39;00m DataIO\n\u001b[1;32m     12\u001b[0m \u001b[38;5;28;01mfrom\u001b[39;00m \u001b[38;5;21;01mRecSysFramework\u001b[39;00m\u001b[38;5;21;01m.\u001b[39;00m\u001b[38;5;21;01mRecommender\u001b[39;00m \u001b[38;5;28;01mimport\u001b[39;00m Recommender\n\u001b[0;32m---> 13\u001b[0m \u001b[38;5;28;01mfrom\u001b[39;00m \u001b[38;5;21;01mtkinter\u001b[39;00m\u001b[38;5;21;01m.\u001b[39;00m\u001b[38;5;21;01mfiledialog\u001b[39;00m \u001b[38;5;28;01mimport\u001b[39;00m askopenfilename\n\u001b[1;32m     16\u001b[0m \u001b[38;5;28;01mclass\u001b[39;00m \u001b[38;5;21;01mSimilarityMatrixRecommender\u001b[39;00m(Recommender):\n\u001b[1;32m     17\u001b[0m \u001b[38;5;250m    \u001b[39m\u001b[38;5;124;03m\"\"\"\u001b[39;00m\n\u001b[1;32m     18\u001b[0m \u001b[38;5;124;03m    This class refers to a BaseRecommender KNN which uses a similarity matrix, it provides two function to compute item's score\u001b[39;00m\n\u001b[1;32m     19\u001b[0m \u001b[38;5;124;03m    bot for user-based and Item-based models as well as a function to save the W_matrix\u001b[39;00m\n\u001b[1;32m     20\u001b[0m \u001b[38;5;124;03m    \"\"\"\u001b[39;00m\n",
      "File \u001b[0;32m/opt/homebrew/Cellar/python@3.10/3.10.10_1/Frameworks/Python.framework/Versions/3.10/lib/python3.10/tkinter/__init__.py:37\u001b[0m\n\u001b[1;32m     34\u001b[0m \u001b[38;5;28;01mimport\u001b[39;00m \u001b[38;5;21;01msys\u001b[39;00m\n\u001b[1;32m     35\u001b[0m \u001b[38;5;28;01mimport\u001b[39;00m \u001b[38;5;21;01mtypes\u001b[39;00m\n\u001b[0;32m---> 37\u001b[0m \u001b[38;5;28;01mimport\u001b[39;00m \u001b[38;5;21;01m_tkinter\u001b[39;00m \u001b[38;5;66;03m# If this fails your Python may not be configured for Tk\u001b[39;00m\n\u001b[1;32m     38\u001b[0m TclError \u001b[38;5;241m=\u001b[39m _tkinter\u001b[38;5;241m.\u001b[39mTclError\n\u001b[1;32m     39\u001b[0m \u001b[38;5;28;01mfrom\u001b[39;00m \u001b[38;5;21;01mtkinter\u001b[39;00m\u001b[38;5;21;01m.\u001b[39;00m\u001b[38;5;21;01mconstants\u001b[39;00m \u001b[38;5;28;01mimport\u001b[39;00m \u001b[38;5;241m*\u001b[39m\n",
      "\u001b[0;31mModuleNotFoundError\u001b[0m: No module named '_tkinter'"
     ]
    }
   ],
   "source": [
    "import RecSysFramework.Utils.get_holdout as gh\n",
    "from RecSysFramework.Recommender import Recommender\n",
    "from RecSysFramework.Utils import check_matrix\n",
    "from RecSysFramework.Evaluation.Evaluator import EvaluatorHoldout, EvaluatorMetrics\n",
    "\n",
    "import numpy as np\n",
    "import pandas as pd\n",
    "\n",
    "from sklearn.metrics.pairwise import cosine_similarity\n",
    "\n",
    "from scipy.sparse import csr_matrix, diags, isspmatrix\n",
    "from scipy.sparse.linalg import eigs\n",
    "from scipy.sparse import eye as seye\n",
    "\n",
    "from sklearn.utils.extmath import randomized_svd"
   ]
  },
  {
   "cell_type": "code",
   "execution_count": 2,
   "id": "856b0e78",
   "metadata": {
    "scrolled": true
   },
   "outputs": [
    {
     "name": "stdout",
     "output_type": "stream",
     "text": [
      "DataSplitter: Preloaded data not found or corrupted, reading from original files...\n",
      "Reader: Loading /Users/alex/NearestNeighborMF-data/splits/Movielens1M/original/URM_all...\n",
      "Reader: Loading complete!\n",
      "Reader: Applying <RecSysFramework.DataManager.DatasetPostprocessing.ImplicitURM.ImplicitURM object at 0x13f40c430>\n",
      "Current dataset is: Movielens1M\n",
      "\tNumber of items: 3706\n",
      "\tNumber of users: 6040\n",
      "\tNumber of interactions in URM_all: 836478\n",
      "\tInteraction density: 3.7369%\n",
      "\tInteractions per user:\n",
      "\t\t Min: 0\n",
      "\t\t Avg: 138.49\n",
      "\t\t Max: 1968\n",
      "\tInteractions per item:\n",
      "\t\t Min: 0\n",
      "\t\t Avg: 225.71\n",
      "\t\t Max: 3211\n",
      "\n",
      "Reader: Applying <RecSysFramework.DataManager.DatasetPostprocessing.KCore.KCore object at 0x13f40cb50>\n",
      "DataDenseSplit_K_Cores: k-cores extraction will zero out some users and items without changing URM shape\n",
      "DataDenseSplit_K_Cores: Initial URM desity is 3.74E-02\n",
      "DataDenseSplit_K_Cores: Iteration 1. URM desity without zeroed-out nodes is 4.19E-02.\n",
      "Users with less than 5 interactions are 2 ( 0.03%), \n",
      "Items with less than 5 interactions are 399 ( 10.77%)\n",
      "DataDenseSplit_K_Cores: Iteration 2. URM desity without zeroed-out nodes is 4.19E-02.\n",
      "Users with less than 5 interactions are 2 ( 0.03%), \n",
      "Items with less than 5 interactions are 399 ( 10.77%)\n",
      "DataDenseSplit_K_Cores: split complete\n",
      "Current dataset is: Movielens1M\n",
      "\tNumber of items: 3307\n",
      "\tNumber of users: 6038\n",
      "\tNumber of interactions in URM_all: 835789\n",
      "\tInteraction density: 4.1857%\n",
      "\tInteractions per user:\n",
      "\t\t Min: 7\n",
      "\t\t Avg: 138.42\n",
      "\t\t Max: 1924\n",
      "\tInteractions per item:\n",
      "\t\t Min: 5\n",
      "\t\t Avg: 252.73\n",
      "\t\t Max: 3211\n",
      "\n",
      "Reader: Data loading and postprocessing completed\n",
      "Current dataset is: Movielens1M\n",
      "\tNumber of items: 3307\n",
      "\tNumber of users: 6038\n",
      "\tNumber of interactions in URM_all: 835789\n",
      "\tInteraction density: 4.1857%\n",
      "\tInteractions per user:\n",
      "\t\t Min: 7\n",
      "\t\t Avg: 138.42\n",
      "\t\t Max: 1924\n",
      "\tInteractions per item:\n",
      "\t\t Min: 5\n",
      "\t\t Avg: 252.73\n",
      "\t\t Max: 3211\n",
      "\n",
      "Dataset: Movielens1MReader\n"
     ]
    }
   ],
   "source": [
    "d = \"Movielens1MReader\"\n",
    "train, _, test, d_name = gh.retrieve_train_validation_test_holdhout_dataset(d)\n",
    "print(\"Dataset: {}\".format(d))\n",
    "train_urm = train.get_URM()\n",
    "test_urm = test.get_URM()"
   ]
  },
  {
   "cell_type": "code",
   "execution_count": 23,
   "id": "6a257844",
   "metadata": {},
   "outputs": [],
   "source": [
    "class DCT(Recommender):\n",
    "    \"\"\"\n",
    "    \n",
    "    Decoupled Completion and Transduction\n",
    "    Cold-Start Item and User Recommendation with Decoupled Completion and Transduction\n",
    "    Iman Barjasteh et al.\n",
    "    \n",
    "    \"\"\"\n",
    "\n",
    "    RECOMMENDER_NAME = \"DCT\"\n",
    "\n",
    "    def __init__(self, URM_train, item_similarity_matrix):\n",
    "\n",
    "        super(DCT, self).__init__(URM_train)\n",
    "        self.item_similarity_matrix = check_matrix(item_similarity_matrix)\n",
    "        \n",
    "\n",
    "    def _compute_item_score(self, user_id_array, items_to_compute=None):\n",
    "\n",
    "        assert self.W.shape[0] > user_id_array.max(),\\\n",
    "                \"MatrixFactorization_Cython: Cold users not allowed. \" \\\n",
    "                \"Users in trained model are {}, requested prediction for users up to {}\"\\\n",
    "                .format(self.W.shape[0], user_id_array.max())\n",
    "\n",
    "        if items_to_compute is not None:\n",
    "            item_scores = np.dot(self.W[user_id_array], self.H[:, items_to_compute])\n",
    "        else:\n",
    "            item_scores = np.dot(self.W[user_id_array], self.H)\n",
    "\n",
    "        item_scores = np.dot(np.dot(item_scores, self.Ub_hat_complete), self.Ub.T)\n",
    "\n",
    "        return item_scores\n",
    "\n",
    "\n",
    "    def fit(self, num_factors=10, num_eigs=7):\n",
    "\n",
    "        super(DCT, self).fit()\n",
    "\n",
    "        self.num_factors = num_factors\n",
    "        self.num_eigs = num_eigs\n",
    "\n",
    "        self.items_to_keep = np.arange(self.n_items)[np.ediff1d(self.URM_train.tocsc().indptr) > 0]\n",
    "\n",
    "        self._print(\"Calculating URM factorization\")\n",
    "        u, s, vt = randomized_svd(self.URM_train, num_factors)\n",
    "\n",
    "        self.W = np.dot(u, np.diag(s))\n",
    "        self.H = vt[:, self.items_to_keep]\n",
    "\n",
    "        self._print(\"Calculating eigenvalues of B\")\n",
    "        _, self.Ub = eigs(self.item_similarity_matrix, k=num_eigs)\n",
    "\n",
    "        self._print(\"Calculating Ub complete\")\n",
    "        Ub_hat = self.Ub[self.items_to_keep]\n",
    "        self.Ub_hat = Ub_hat\n",
    "        #self.Ub_hat_complete = np.dot(Ub_hat, np.linalg.pinv(np.dot(Ub_hat.T, Ub_hat)))\n",
    "        self.Ub_hat_complete = Ub_hat @ np.linalg.pinv(Ub_hat.T @ Ub_hat)\n",
    "\n",
    "\n",
    "    def _get_dict_to_save(self):\n",
    "\n",
    "        return {\"W\": self.W,\n",
    "                \"H\": self.H,\n",
    "                \"Ub\": self.Ub}"
   ]
  },
  {
   "cell_type": "code",
   "execution_count": 24,
   "id": "293d1efa",
   "metadata": {},
   "outputs": [],
   "source": [
    "def cosine_similarity_zd(matrix):\n",
    "    '''Build cosine similarity matrix with zero diagonal.'''\n",
    "    similarity = cosine_similarity(matrix, dense_output=False)\n",
    "    similarity.setdiag(0)\n",
    "    similarity.eliminate_zeros()\n",
    "    return similarity.tocsr()"
   ]
  },
  {
   "cell_type": "code",
   "execution_count": 25,
   "id": "e0da66ae",
   "metadata": {},
   "outputs": [],
   "source": [
    "item_similarity = cosine_similarity_zd(train_urm.T)"
   ]
  },
  {
   "cell_type": "code",
   "execution_count": 26,
   "id": "838eb600",
   "metadata": {},
   "outputs": [
    {
     "name": "stdout",
     "output_type": "stream",
     "text": [
      "DCT: Calculating URM factorization\n",
      "DCT: Calculating eigenvalues of B\n",
      "DCT: Calculating Ub complete\n"
     ]
    }
   ],
   "source": [
    "dct = DCT(train_urm, item_similarity)\n",
    "dct.fit()"
   ]
  },
  {
   "cell_type": "code",
   "execution_count": 28,
   "id": "1aa43165",
   "metadata": {},
   "outputs": [],
   "source": [
    "evaluator = EvaluatorHoldout(\n",
    "    cutoff_list=[5], metrics_list=[EvaluatorMetrics.MAP, EvaluatorMetrics.NDCG, EvaluatorMetrics.RMSE]\n",
    ")"
   ]
  },
  {
   "cell_type": "code",
   "execution_count": 29,
   "id": "bced96df",
   "metadata": {},
   "outputs": [
    {
     "name": "stdout",
     "output_type": "stream",
     "text": [
      "EvaluatorHoldout: Processed 6028 ( 100.00% ) in 1.15 sec. Users per second: 5237\n",
      "Model: DCT, Result: CUTOFF: 5 - MAP: 0.1204617, NDCG: 0.0718066, RMSE: 0.9139561+0.0000000j, \n",
      "\n",
      "\n"
     ]
    }
   ],
   "source": [
    "res = evaluator.evaluateRecommender(dct, test_urm).get_results_string()\n",
    "print(\"Model: DCT, Result: {}\\n\".format(res))"
   ]
  },
  {
   "cell_type": "markdown",
   "id": "c18c055a",
   "metadata": {},
   "source": [
    "### Shapes:\n",
    "\n",
    "items_to_keep - (n_items, 1)\n",
    "\n",
    "W - (n_users, num_factors)\n",
    "\n",
    "H - (n_factors, n_users)\n",
    "\n",
    "Ub_hat, Ub_hat_complete, Ub - (num_items, num_eigs)\n",
    "\n",
    "### Variables:\n",
    "num_factors - r"
   ]
  }
 ],
 "metadata": {
  "kernelspec": {
   "display_name": "Python 3 (ipykernel)",
   "language": "python",
   "name": "python3"
  },
  "language_info": {
   "codemirror_mode": {
    "name": "ipython",
    "version": 3
   },
   "file_extension": ".py",
   "mimetype": "text/x-python",
   "name": "python",
   "nbconvert_exporter": "python",
   "pygments_lexer": "ipython3",
   "version": "3.10.10"
  }
 },
 "nbformat": 4,
 "nbformat_minor": 5
}
